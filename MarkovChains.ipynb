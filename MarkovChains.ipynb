{
  "nbformat": 4,
  "nbformat_minor": 0,
  "metadata": {
    "kernelspec": {
      "display_name": "Python 3",
      "language": "python",
      "name": "python3"
    },
    "language_info": {
      "codemirror_mode": {
        "name": "ipython",
        "version": 3
      },
      "file_extension": ".py",
      "mimetype": "text/x-python",
      "name": "python",
      "nbconvert_exporter": "python",
      "pygments_lexer": "ipython3",
      "version": "3.6.8"
    },
    "colab": {
      "name": "ASOIAF.ipynb",
      "provenance": [],
      "toc_visible": true,
      "include_colab_link": true
    }
  },
  "cells": [
    {
      "cell_type": "markdown",
      "metadata": {
        "id": "view-in-github",
        "colab_type": "text"
      },
      "source": [
        "<a href=\"https://colab.research.google.com/github/db175/TextGenereratrUsingMarkvChns/blob/main/MarkovChains.ipynb\" target=\"_parent\"><img src=\"https://colab.research.google.com/assets/colab-badge.svg\" alt=\"Open In Colab\"/></a>"
      ]
    },
    {
      "cell_type": "code",
      "metadata": {
        "id": "KD7dTlgCrqhH"
      },
      "source": [
        "import pandas as pd\n",
        "import seaborn as sns\n",
        "import numpy as np\n",
        "import glob"
      ],
      "execution_count": null,
      "outputs": []
    },
    {
      "cell_type": "code",
      "metadata": {
        "id": "X6vwdSF0rqhX"
      },
      "source": [
        "file_names = glob.glob('/content/data/*.txt')"
      ],
      "execution_count": null,
      "outputs": []
    },
    {
      "cell_type": "markdown",
      "metadata": {
        "id": "JTPj44lirqhg"
      },
      "source": [
        "# Load Whole Corpus"
      ]
    },
    {
      "cell_type": "code",
      "metadata": {
        "id": "FaV-grjqrqhh"
      },
      "source": [
        "corpus = \"\"\n",
        "for file_name in file_names:\n",
        "    with open(file_name, 'r') as f:\n",
        "            corpus+=f.read()\n",
        "corpus = corpus.replace('\\n',' ')\n",
        "corpus = corpus.replace('\\t',' ')\n",
        "corpus = corpus.replace('“', ' \" ')\n",
        "corpus = corpus.replace('”', ' \" ')\n",
        "for spaced in ['.','-',',','!','?','(','—',')']:\n",
        "    corpus = corpus.replace(spaced, ' {0} '.format(spaced))"
      ],
      "execution_count": null,
      "outputs": []
    },
    {
      "cell_type": "code",
      "metadata": {
        "colab": {
          "base_uri": "https://localhost:8080/"
        },
        "id": "HvvE_d7Lrqhh",
        "outputId": "96d0c3d7-6e48-4223-c6dc-a57ea51b4b4e"
      },
      "source": [
        "len(corpus)"
      ],
      "execution_count": null,
      "outputs": [
        {
          "output_type": "execute_result",
          "data": {
            "text/plain": [
              "4965211"
            ]
          },
          "metadata": {
            "tags": []
          },
          "execution_count": 4
        }
      ]
    },
    {
      "cell_type": "code",
      "metadata": {
        "colab": {
          "base_uri": "https://localhost:8080/",
          "height": 86
        },
        "id": "pCwosJtYrqhi",
        "outputId": "4d614e56-9d23-4c0f-84c8-5e35f4563d16"
      },
      "source": [
        "corpus[10000:10500]"
      ],
      "execution_count": null,
      "outputs": [
        {
          "output_type": "execute_result",
          "data": {
            "application/vnd.google.colaboratory.intrinsic+json": {
              "type": "string"
            },
            "text/plain": [
              "'the stars in secret influence comment .    When I perceive that men as plants increase ,    Cheered and checked even by the self - same sky:   Vaunt in their youthful sap ,  at height decrease ,    And wear their brave state out of memory .    Then the conceit of this inconstant stay ,    Sets you most rich in youth before my sight ,    Where wasteful time debateth with decay   To change your day of youth to sullied night ,      And all in war with Time for love of you ,      As he takes from yo'"
            ]
          },
          "metadata": {
            "tags": []
          },
          "execution_count": 5
        }
      ]
    },
    {
      "cell_type": "code",
      "metadata": {
        "id": "pLiE1Bunrqhi"
      },
      "source": [
        "corpus_words = corpus.split(' ')\n",
        "corpus_words= [word for word in corpus_words if word != '']"
      ],
      "execution_count": null,
      "outputs": []
    },
    {
      "cell_type": "code",
      "metadata": {
        "colab": {
          "base_uri": "https://localhost:8080/"
        },
        "id": "eIUPptHvrqhj",
        "outputId": "adb9cf5c-b7de-4305-e010-d69bc3b8c8d8"
      },
      "source": [
        "len(corpus_words)"
      ],
      "execution_count": null,
      "outputs": [
        {
          "output_type": "execute_result",
          "data": {
            "text/plain": [
              "205441"
            ]
          },
          "metadata": {
            "tags": []
          },
          "execution_count": 50
        }
      ]
    },
    {
      "cell_type": "code",
      "metadata": {
        "id": "KpFN9mrVrqhj"
      },
      "source": [
        "# corpus_words"
      ],
      "execution_count": null,
      "outputs": []
    },
    {
      "cell_type": "code",
      "metadata": {
        "colab": {
          "base_uri": "https://localhost:8080/"
        },
        "id": "ui9ARcXBrqhj",
        "outputId": "a2f727fc-d44e-46bc-cad0-8087b4db3852"
      },
      "source": [
        "len(corpus_words)"
      ],
      "execution_count": null,
      "outputs": [
        {
          "output_type": "execute_result",
          "data": {
            "text/plain": [
              "205441"
            ]
          },
          "metadata": {
            "tags": []
          },
          "execution_count": 51
        }
      ]
    },
    {
      "cell_type": "code",
      "metadata": {
        "colab": {
          "base_uri": "https://localhost:8080/"
        },
        "id": "yG2FbkWXrqhk",
        "outputId": "8f850e5a-9d10-43ce-93af-d559c28bbebb"
      },
      "source": [
        "distinct_words = list(set(corpus_words))\n",
        "word_idx_dict = {word: i for i, word in enumerate(distinct_words)}\n",
        "distinct_words_count = len(list(set(corpus_words)))\n",
        "distinct_words_count"
      ],
      "execution_count": null,
      "outputs": [
        {
          "output_type": "execute_result",
          "data": {
            "text/plain": [
              "36408"
            ]
          },
          "metadata": {
            "tags": []
          },
          "execution_count": 7
        }
      ]
    },
    {
      "cell_type": "code",
      "metadata": {
        "id": "E9Ihl588rqhk"
      },
      "source": [
        "next_word_matrix = np.zeros([distinct_words_count,distinct_words_count])"
      ],
      "execution_count": null,
      "outputs": []
    },
    {
      "cell_type": "code",
      "metadata": {
        "id": "2O4remH2rqhl"
      },
      "source": [
        "for i, word in enumerate(corpus_words[:-1]):\n",
        "    first_word_idx = word_idx_dict[word]\n",
        "    next_word_idx = word_idx_dict[corpus_words[i+1]]\n",
        "    next_word_matrix[first_word_idx][next_word_idx] +=1"
      ],
      "execution_count": null,
      "outputs": []
    },
    {
      "cell_type": "code",
      "metadata": {
        "id": "_C0Rpcurrqhm"
      },
      "source": [
        "def most_likely_word_after(aWord):\n",
        "    most_likely = next_word_matrix[word_idx_dict[aWord]].argmax()\n",
        "    return distinct_words[most_likely]"
      ],
      "execution_count": null,
      "outputs": []
    },
    {
      "cell_type": "code",
      "metadata": {
        "id": "VWm5YxuArqhm"
      },
      "source": [
        "def naive_chain(seed, length=15):\n",
        "    current_word = seed\n",
        "    sentence = seed\n",
        "\n",
        "    for _ in range(length):\n",
        "        sentence+=' '\n",
        "        next_word = most_likely_word_after(current_word)\n",
        "        sentence+=next_word\n",
        "        current_word = next_word\n",
        "    return sentence"
      ],
      "execution_count": null,
      "outputs": []
    },
    {
      "cell_type": "code",
      "metadata": {
        "id": "QPgwcvSirqhm",
        "colab": {
          "base_uri": "https://localhost:8080/"
        },
        "outputId": "3d20f2a5-f9b2-48d5-aab3-7e506d8a3964"
      },
      "source": [
        "print(naive_chain('the'))\n",
        "print(naive_chain('I'))\n",
        "print(naive_chain('he'))\n",
        "print(naive_chain('she'))\n",
        "print(naive_chain('They'))"
      ],
      "execution_count": null,
      "outputs": [
        {
          "output_type": "stream",
          "text": [
            "the King . I am I am I am I am I am I am I\n",
            "I am I am I am I am I am I am I am I am\n",
            "he is the King . I am I am I am I am I am I\n",
            "she is the King . I am I am I am I am I am I\n",
            "They are you , and the King . I am I am I am I am\n"
          ],
          "name": "stdout"
        }
      ]
    },
    {
      "cell_type": "code",
      "metadata": {
        "id": "xhgP4polrqhp"
      },
      "source": [
        "import random\n",
        "from random import random \n",
        "\n",
        "def weighted_choice(objects, weights):\n",
        "    \"\"\" returns randomly an element from the sequence of 'objects', \n",
        "        the likelihood of the objects is weighted according \n",
        "        to the sequence of 'weights', i.e. percentages.\"\"\"\n",
        "\n",
        "    weights = np.array(weights, dtype=np.float64)\n",
        "    sum_of_weights = weights.sum()\n",
        "    # standardization:\n",
        "    np.multiply(weights, 1 / sum_of_weights, weights)\n",
        "    weights = weights.cumsum()\n",
        "    x = random()\n",
        "    for i in range(len(weights)):\n",
        "        if x < weights[i]:\n",
        "            return objects[i]"
      ],
      "execution_count": null,
      "outputs": []
    },
    {
      "cell_type": "code",
      "metadata": {
        "id": "JhUYYrhNrqhp"
      },
      "source": [
        "from numpy.random import choice\n",
        "\n",
        "def sample_next_word_after(aWord, alpha = 0):\n",
        "    next_word_vector = next_word_matrix[word_idx_dict[aWord]] + alpha\n",
        "    likelihoods = next_word_vector/next_word_vector.sum()\n",
        "    return weighted_choice(distinct_words, likelihoods)"
      ],
      "execution_count": null,
      "outputs": []
    },
    {
      "cell_type": "code",
      "metadata": {
        "id": "osQomdVmrqhp",
        "colab": {
          "base_uri": "https://localhost:8080/",
          "height": 35
        },
        "outputId": "d1739fa1-15f8-40f4-f3ae-120c28a4a9f0"
      },
      "source": [
        "sample_next_word_after('the')"
      ],
      "execution_count": null,
      "outputs": [
        {
          "output_type": "execute_result",
          "data": {
            "application/vnd.google.colaboratory.intrinsic+json": {
              "type": "string"
            },
            "text/plain": [
              "'doers'"
            ]
          },
          "metadata": {
            "tags": []
          },
          "execution_count": 15
        }
      ]
    },
    {
      "cell_type": "code",
      "metadata": {
        "id": "V-BDZqbyrqhq"
      },
      "source": [
        "def stochastic_chain(seed, length=15):\n",
        "    current_word = seed\n",
        "    sentence = seed\n",
        "\n",
        "    for _ in range(length):\n",
        "        sentence+=' '\n",
        "        next_word = sample_next_word_after(current_word)\n",
        "        sentence+=next_word\n",
        "        current_word = next_word\n",
        "    return sentence"
      ],
      "execution_count": null,
      "outputs": []
    },
    {
      "cell_type": "code",
      "metadata": {
        "id": "Y4cbARi9rqhq",
        "colab": {
          "base_uri": "https://localhost:8080/"
        },
        "outputId": "81b91727-4fae-47ff-c7e1-add744e67ff6"
      },
      "source": [
        "print(stochastic_chain('the'))\n",
        "print(stochastic_chain('I'))\n",
        "print(stochastic_chain('he'))\n",
        "print(stochastic_chain('she'))\n",
        "print(stochastic_chain('They'))"
      ],
      "execution_count": null,
      "outputs": [
        {
          "output_type": "stream",
          "text": [
            "the hair , Herself most of blood , Though I would you must become of his\n",
            "I cry 'Your meat doth combine . PHEBE . I heard of thy grave elders .\n",
            "he have discredited your own eyes . IACHIMO . Exit Ghost . Nay , thou art\n",
            "she satisfies; for you With her old carlot once peep , Says very valiant Caesar will\n",
            "They fell . This is that owe another way say , my rhyme , sir ,\n"
          ],
          "name": "stdout"
        }
      ]
    },
    {
      "cell_type": "code",
      "metadata": {
        "id": "HsT1iYYurqhr",
        "colab": {
          "base_uri": "https://localhost:8080/"
        },
        "outputId": "05ac8c07-c9d2-4703-dd60-a87152f4b9f1"
      },
      "source": [
        "k = 4\n",
        "sets_of_k_words = [ ' '.join(corpus_words[i:i+k]) for i, _ in enumerate(corpus_words[:-k]) ]\n",
        "\n",
        "print([len(list(set(sets_of_k_words))),\n",
        "       len(sets_of_k_words)])"
      ],
      "execution_count": null,
      "outputs": [
        {
          "output_type": "stream",
          "text": [
            "[844104, 933203]\n"
          ],
          "name": "stdout"
        }
      ]
    },
    {
      "cell_type": "code",
      "metadata": {
        "id": "20KlWjtjrqhr",
        "colab": {
          "base_uri": "https://localhost:8080/"
        },
        "outputId": "871587e3-6784-4cd3-d7e4-eaf07b1f90c3"
      },
      "source": [
        "from scipy.sparse import dok_matrix\n",
        "\n",
        "sets_count = len(list(set(sets_of_k_words)))\n",
        "next_after_k_words_matrix = dok_matrix((sets_count, len(distinct_words)))\n",
        "print(next_after_k_words_matrix.shape)"
      ],
      "execution_count": null,
      "outputs": [
        {
          "output_type": "stream",
          "text": [
            "(844104, 36408)\n"
          ],
          "name": "stdout"
        }
      ]
    },
    {
      "cell_type": "code",
      "metadata": {
        "scrolled": true,
        "id": "NLB7gkz9rqhs",
        "colab": {
          "base_uri": "https://localhost:8080/"
        },
        "outputId": "2b512e35-02fa-4ddb-c2e3-b34cddabf189"
      },
      "source": [
        "distinct_sets_of_k_words = list(set(sets_of_k_words))\n",
        "k_words_idx_dict = {word: i for i, word in enumerate(distinct_sets_of_k_words)}\n",
        "distinct_k_words_count = len(list(set(sets_of_k_words)))\n",
        "print(len(sets_of_k_words))\n",
        "for i, word in enumerate(sets_of_k_words[:-k]):\n",
        "    word_sequence_idx = k_words_idx_dict[word]\n",
        "    next_word_idx = word_idx_dict[corpus_words[i+k]]\n",
        "    next_after_k_words_matrix[word_sequence_idx, next_word_idx] +=1"
      ],
      "execution_count": null,
      "outputs": [
        {
          "output_type": "stream",
          "text": [
            "933203\n"
          ],
          "name": "stdout"
        }
      ]
    },
    {
      "cell_type": "code",
      "metadata": {
        "id": "CQ-YW6NLrqht"
      },
      "source": [
        "def stochastic_chain(seed, chain_length=15, seed_length=4):\n",
        "    current_words = seed.split(' ')\n",
        "    if len(current_words) != seed_length:\n",
        "        raise ValueError(f'wrong number of words, expected {seed_length}')\n",
        "    sentence = seed\n",
        "\n",
        "    for _ in range(chain_length):\n",
        "        sentence+=' '\n",
        "        next_word = sample_next_word_after_sequence(' '.join(current_words))\n",
        "        sentence+=next_word\n",
        "        current_words = current_words[1:]+[next_word]\n",
        "    return sentence"
      ],
      "execution_count": null,
      "outputs": []
    },
    {
      "cell_type": "code",
      "metadata": {
        "id": "q6Mr0emLrqht"
      },
      "source": [
        "from numpy.random import choice\n",
        "\n",
        "def sample_next_word_after_sequence(word_sequence, alpha = 0):\n",
        "    next_word_vector = next_after_k_words_matrix[k_words_idx_dict[word_sequence]] + alpha\n",
        "    likelihoods = next_word_vector/next_word_vector.sum()\n",
        "    return weighted_choice(distinct_words, likelihoods.toarray())"
      ],
      "execution_count": null,
      "outputs": []
    },
    {
      "cell_type": "code",
      "metadata": {
        "id": "4Ut6gblcrqhu"
      },
      "source": [
        "print(stochastic_chain('the'))\n",
        "print(stochastic_chain('I'))\n",
        "print(stochastic_chain('he'))\n",
        "print(stochastic_chain('she'))\n",
        "print(stochastic_chain('They'))"
      ],
      "execution_count": null,
      "outputs": []
    },
    {
      "cell_type": "code",
      "metadata": {
        "id": "7_SpojOnrqhv",
        "colab": {
          "base_uri": "https://localhost:8080/"
        },
        "outputId": "b55511a0-c0d5-4cf2-9a05-ab73176604f7"
      },
      "source": [
        "print(stochastic_chain('That he hath left'))"
      ],
      "execution_count": null,
      "outputs": [
        {
          "output_type": "stream",
          "text": [
            "That he hath left part of his grief with me To suffer with him . Good love , call\n"
          ],
          "name": "stdout"
        }
      ]
    },
    {
      "cell_type": "code",
      "metadata": {
        "id": "OjDGTtWgrqhw"
      },
      "source": [
        ""
      ],
      "execution_count": null,
      "outputs": []
    },
    {
      "cell_type": "code",
      "metadata": {
        "id": "qyijCdJNrqhw"
      },
      "source": [
        "stochastic_chain('The game')"
      ],
      "execution_count": null,
      "outputs": []
    },
    {
      "cell_type": "code",
      "metadata": {
        "id": "L8Q-us5rrqhx"
      },
      "source": [
        "stochastic_chain('The game')"
      ],
      "execution_count": null,
      "outputs": []
    },
    {
      "cell_type": "code",
      "metadata": {
        "id": "hKIvUXTSrqhx"
      },
      "source": [
        "stochastic_chain('I have')"
      ],
      "execution_count": null,
      "outputs": []
    },
    {
      "cell_type": "code",
      "metadata": {
        "id": "sH3pLt8Xrqhy"
      },
      "source": [
        "stochastic_chain('heard the')"
      ],
      "execution_count": null,
      "outputs": []
    }
  ]
}